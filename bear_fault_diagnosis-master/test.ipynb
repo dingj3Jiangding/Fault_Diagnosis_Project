{
 "cells": [
  {
   "cell_type": "code",
   "execution_count": 2,
   "metadata": {},
   "outputs": [
    {
     "name": "stdout",
     "output_type": "stream",
     "text": [
      "[('X148_DE_time', (124602, 1), 'double'), ('X148_FE_time', (124602, 1), 'double'), ('X148RPM', (1, 1), 'double')]\n"
     ]
    }
   ],
   "source": [
    "import scipy.io as scio\n",
    "file = scio.loadmat('data/112.mat')  # change to a real filename from your directory\n",
    "print(file.keys())\n"
   ]
  },
  {
   "cell_type": "code",
   "execution_count": null,
   "metadata": {},
   "outputs": [],
   "source": []
  }
 ],
 "metadata": {
  "kernelspec": {
   "display_name": "fault_diagnosis",
   "language": "python",
   "name": "python3"
  },
  "language_info": {
   "codemirror_mode": {
    "name": "ipython",
    "version": 3
   },
   "file_extension": ".py",
   "mimetype": "text/x-python",
   "name": "python",
   "nbconvert_exporter": "python",
   "pygments_lexer": "ipython3",
   "version": "3.8.20"
  }
 },
 "nbformat": 4,
 "nbformat_minor": 2
}
