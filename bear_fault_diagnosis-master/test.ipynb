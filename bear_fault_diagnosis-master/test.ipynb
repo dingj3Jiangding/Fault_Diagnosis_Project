{
 "cells": [
  {
   "cell_type": "code",
   "execution_count": 4,
   "metadata": {},
   "outputs": [
    {
     "name": "stdout",
     "output_type": "stream",
     "text": [
      "📁 所有文件: ['112.mat', '138.mat', '.DS_Store', '164.mat', '151.mat', '125.mat']\n",
      "❌ 非 .mat 文件: ['.DS_Store']\n"
     ]
    }
   ],
   "source": [
    "\n"
   ]
  },
  {
   "cell_type": "code",
   "execution_count": 6,
   "metadata": {},
   "outputs": [
    {
     "name": "stdout",
     "output_type": "stream",
     "text": [
      "265.mat: ['__header__', '__version__', '__globals__', 'X265_DE_time', 'X265_FE_time', 'X265RPM']\n",
      "112.mat: ['__header__', '__version__', '__globals__', 'X112_DE_time', 'X112_FE_time', 'X112RPM']\n",
      "138.mat: ['__header__', '__version__', '__globals__', 'X138_DE_time', 'X138_FE_time', 'X138RPM']\n",
      "100.mat: ['__header__', '__version__', '__globals__', 'X100_DE_time', 'X100_FE_time', 'X100RPM']\n",
      "164.mat: ['__header__', '__version__', '__globals__', 'X164_DE_time', 'X164_FE_time', 'X164RPM']\n",
      "204.mat: ['__header__', '__version__', '__globals__', 'X204_DE_time', 'X204_FE_time', 'X204RPM']\n",
      "177.mat: ['__header__', '__version__', '__globals__', 'X177_DE_time', 'X177_FE_time', 'X177RPM']\n",
      "229.mat: ['__header__', '__version__', '__globals__', 'X229_DE_time', 'X229_FE_time', 'X229RPM']\n",
      "217.mat: ['__header__', '__version__', '__globals__', 'X215_DE_time', 'X215_FE_time', 'X215RPM', 'X217_DE_time', 'X217_FE_time', 'X217RPM']\n",
      "151.mat: ['__header__', '__version__', '__globals__', 'X151_DE_time', 'X151_FE_time', 'X151RPM']\n",
      "192.mat: ['__header__', '__version__', '__globals__', 'X192_DE_time', 'X192_FE_time', 'X192RPM']\n",
      "253.mat: ['__header__', '__version__', '__globals__', 'X253_DE_time', 'X253_FE_time', 'X253RPM']\n",
      "125.mat: ['__header__', '__version__', '__globals__', 'X125_DE_time', 'X125_FE_time', 'X125RPM']\n",
      "241.mat: ['__header__', '__version__', '__globals__', 'X241_DE_time', 'X241_FE_time', 'X241RPM']\n"
     ]
    }
   ],
   "source": [
    "import os\n",
    "import scipy.io as scio\n",
    "\n",
    "folder = 'data'\n",
    "for fname in os.listdir(folder):\n",
    "    if fname.endswith('.mat'):\n",
    "        try:\n",
    "            file = scio.loadmat(os.path.join(folder, fname))\n",
    "            print(f\"{fname}: {list(file.keys())}\")\n",
    "        except Exception as e:\n",
    "            print(f\"❌ {fname} error: {e}\")\n"
   ]
  },
  {
   "cell_type": "code",
   "execution_count": null,
   "metadata": {},
   "outputs": [],
   "source": []
  }
 ],
 "metadata": {
  "kernelspec": {
   "display_name": "fault_diagnosis",
   "language": "python",
   "name": "python3"
  },
  "language_info": {
   "codemirror_mode": {
    "name": "ipython",
    "version": 3
   },
   "file_extension": ".py",
   "mimetype": "text/x-python",
   "name": "python",
   "nbconvert_exporter": "python",
   "pygments_lexer": "ipython3",
   "version": "3.8.20"
  }
 },
 "nbformat": 4,
 "nbformat_minor": 2
}
